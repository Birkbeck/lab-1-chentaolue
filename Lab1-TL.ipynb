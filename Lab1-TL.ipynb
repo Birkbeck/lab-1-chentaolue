{
  "nbformat": 4,
  "nbformat_minor": 0,
  "metadata": {
    "kernelspec": {
      "display_name": "Python 3",
      "language": "python",
      "name": "python3"
    },
    "language_info": {
      "codemirror_mode": {
        "name": "ipython",
        "version": 3
      },
      "file_extension": ".py",
      "mimetype": "text/x-python",
      "name": "python",
      "nbconvert_exporter": "python",
      "pygments_lexer": "ipython3",
      "version": "3.7.4"
    },
    "colab": {
      "name": "Lab1_template.ipynb",
      "provenance": []
    },
    "accelerator": "GPU"
  },
  "cells": [
    {
      "cell_type": "markdown",
      "metadata": {
        "id": "OthJet-JbtNU"
      },
      "source": [
        "# Week 1 Introduction and Variables"
      ]
    },
    {
      "cell_type": "markdown",
      "metadata": {
        "id": "QGnDfdHSbtN1"
      },
      "source": [
        "### E-Book\n",
        "\n",
        "Good news from the library\n",
        "- Each student can get an e-copy of the textbook (Newest Edition)\n",
        "- Link to the book will be sent to you all by library later\n",
        "\n",
        "![image.png](attachment:image.png)"
      ]
    },
    {
      "cell_type": "code",
      "metadata": {
        "id": "8njj0nLkbtN5"
      },
      "source": [
        ""
      ],
      "execution_count": null,
      "outputs": []
    },
    {
      "cell_type": "markdown",
      "metadata": {
        "id": "zUf8mmu5btN7"
      },
      "source": [
        "### Saturday Tutorials\n",
        "\n",
        "- Every Saturday 6 – 9pm\n",
        "- Two teachers\n",
        " * One will have a more structured way to help with lab assignments\n",
        " * The other will answer other Python related questions\n",
        "\n",
        "- When to join\n",
        " * if to ask assignment related questions, drop in on time at 6pm\n",
        " * if to ask questions, drop in at any time between 6 – 9pm.\n",
        "\n",
        "- Collaborate Session at \"Post Session Activities\" in each week's tile\n",
        "![image.png](attachment:image.png)"
      ]
    },
    {
      "cell_type": "markdown",
      "metadata": {
        "id": "cdWwbPyvbtN8"
      },
      "source": [
        "### Preparation and Practice\n",
        "\n",
        "- Make sure you have watched the videos and studied the slides before the class begins\n",
        "\n",
        " * We have several reported cases of Safari not showing the videos correctly\n",
        " * Use Chrome or other browsers to log in to Moodle instead\n",
        "\n",
        "- When the video says, \"Pause here\", do pause and think about or work out the questions\n",
        "\n",
        "- You may try to copy/redo the code in the slides, always helps\n",
        "\n",
        "- To master a programming language\n",
        " * Practice, practice, practice\n"
      ]
    },
    {
      "cell_type": "markdown",
      "metadata": {
        "id": "ZyKcpqEHbtN-"
      },
      "source": [
        "### Repl.it\n",
        "\n",
        "- The current version of Repl.it Classroom is nearing its end\n",
        "- The new version of Repl.it Team is not ready for big modules yet\n",
        "- We might be forced to use another platforms in case Classroom is down\n",
        "\n",
        "- Repl.it assignments\" sent back\"\n",
        " * When an assignment is sent back, students can \"resubmit\"\n",
        " * But teacher cannot \"re-mark\" it\n",
        " * Your resubmission will be looked at and in case there are still something wrong, we will contact you by email\n",
        "\n",
        "- Your group teacher will email you separately so you will have a channel to communicate"
      ]
    },
    {
      "cell_type": "markdown",
      "metadata": {
        "id": "gEZgyRjZbtN_"
      },
      "source": [
        "### About Microsoft Teams\n",
        "\n",
        "- Two teams have been set up on Microsoft Teams\n",
        " * Full time (AFT) and Part time (APT)\n",
        "\n",
        "- Install it on your machine (free) and login using your BBK ITS account\n",
        "\n",
        "- We may use it for teaching later\n",
        "\n",
        "- This is also a channel to post your questions apart from Moodle forum\n"
      ]
    },
    {
      "cell_type": "code",
      "metadata": {
        "id": "eUU3keeDbtOC"
      },
      "source": [
        ""
      ],
      "execution_count": null,
      "outputs": []
    },
    {
      "cell_type": "markdown",
      "metadata": {
        "id": "JUaszxR5btOC"
      },
      "source": [
        "## Assignments Arrangement\n",
        "### Important Assignment Time\n",
        "\n",
        "- Previous week's assignments due: Monday 23:59\n",
        "- Next week's assignments available: Monday 23:59\n"
      ]
    },
    {
      "cell_type": "markdown",
      "metadata": {
        "id": "QXnXEzwZbtOD"
      },
      "source": [
        "### Use Repl.it\n",
        "To be changed"
      ]
    },
    {
      "cell_type": "code",
      "metadata": {
        "id": "-oIl12UlbtOE"
      },
      "source": [
        ""
      ],
      "execution_count": null,
      "outputs": []
    },
    {
      "cell_type": "markdown",
      "metadata": {
        "id": "nQzwv1odbtOE"
      },
      "source": [
        "## Assignments\n",
        "\n",
        "### Problem 1.1: First Program\n",
        "\n",
        "As your first Python Program, use print() function to print a message.\n",
        "\n",
        "Don't forget to use \"...\" to wrap around your message."
      ]
    },
    {
      "cell_type": "code",
      "metadata": {
        "id": "rRTD4LiMbtOH"
      },
      "source": [
        ""
      ],
      "execution_count": null,
      "outputs": []
    },
    {
      "cell_type": "code",
      "metadata": {
        "id": "4zmfRfTKbtOI"
      },
      "source": [
        ""
      ],
      "execution_count": null,
      "outputs": []
    },
    {
      "cell_type": "markdown",
      "metadata": {
        "id": "fA7eemUpbtOJ"
      },
      "source": [
        "### Errors in Python\n",
        "\n",
        "- **Compile-time exceptions**: syntax errors found by the *compiler*, e.g.\n",
        "\t* `print)34)`\n",
        "\t\n",
        "- **Runtime exceptions**: errors which are not found by the compiler, but which *prevent* the program from *running to completion*, e.g.\n",
        "\t* `print(1/(2-2))`\t# division by zero\n",
        "\t* `numList[10]`\t# numList only has 4 numbers\n",
        "\t* `\"string\" + 4`\t# performing an operation on incompatible types\n",
        "\t* call a variable or function before its definition\n",
        "\n",
        "- **Runtime errors**: the program compiles and runs but the output is *not what is intended*, e.g.\n",
        "\t* `print(\"Hello Worrld!\")`\n",
        "\t* `1 + 2 * 3` for `(1 + 2) * 3`\n",
        "\n",
        "#### Some Syntax Error Examples"
      ]
    },
    {
      "cell_type": "code",
      "metadata": {
        "id": "CUTNnxPCbtOL"
      },
      "source": [
        "Print(\"Hello!\")"
      ],
      "execution_count": null,
      "outputs": []
    },
    {
      "cell_type": "code",
      "metadata": {
        "id": "P3DxCfIVbtOM"
      },
      "source": [
        "print(Hello)"
      ],
      "execution_count": null,
      "outputs": []
    },
    {
      "cell_type": "code",
      "metadata": {
        "id": "3p26U42TbtOO"
      },
      "source": [
        "print(\"Hello!\")\n",
        "print(\"World!)"
      ],
      "execution_count": null,
      "outputs": []
    },
    {
      "cell_type": "code",
      "metadata": {
        "id": "cwIHfTSRbtOO"
      },
      "source": [
        "print(\"Hello!\")\n",
        "    print(\"World!\")\n"
      ],
      "execution_count": null,
      "outputs": []
    },
    {
      "cell_type": "code",
      "metadata": {
        "id": "0C8itj5jbtOP"
      },
      "source": [
        ""
      ],
      "execution_count": null,
      "outputs": []
    },
    {
      "cell_type": "markdown",
      "metadata": {
        "id": "QbxpxCIqbtOQ"
      },
      "source": [
        "#### Some Runtime Error Examples"
      ]
    },
    {
      "cell_type": "code",
      "metadata": {
        "id": "mc4MCxVAbtOR"
      },
      "source": [
        "print(a)\n",
        "a = 5"
      ],
      "execution_count": null,
      "outputs": []
    },
    {
      "cell_type": "code",
      "metadata": {
        "id": "q77hlyeIbtOT"
      },
      "source": [
        "print(1/0)"
      ],
      "execution_count": null,
      "outputs": []
    },
    {
      "cell_type": "code",
      "metadata": {
        "id": "tE403QbsbtOU"
      },
      "source": [
        "\"string\" + 4"
      ],
      "execution_count": null,
      "outputs": []
    },
    {
      "cell_type": "code",
      "metadata": {
        "id": "OabTyMaKbtOU"
      },
      "source": [
        ""
      ],
      "execution_count": null,
      "outputs": []
    },
    {
      "cell_type": "markdown",
      "metadata": {
        "id": "QBRN01mlbtOV"
      },
      "source": [
        "## Variables\n",
        "### Variable Update\n",
        "- Assigning a value to an existing variable replaces the previously stored value.\n",
        " * New value in, old value gone (overwritten)"
      ]
    },
    {
      "cell_type": "code",
      "metadata": {
        "id": "smRDi-KvbtOV"
      },
      "source": [
        "# What is the value of distance at each step?\n",
        "\n",
        "distance = 1450\n",
        "\n",
        "distance = 2450\n",
        "\n",
        "distance = 490\n",
        "\n",
        "print(distance)"
      ],
      "execution_count": null,
      "outputs": []
    },
    {
      "cell_type": "code",
      "metadata": {
        "id": "TAGYoomYbtOW"
      },
      "source": [
        "# What is the value of myName at each step?\n",
        "\n",
        "myName = \"Manny\"\n",
        "\n",
        "myName = \"Nanny\"\n",
        "\n",
        "myName = \"Funny\"\n",
        "\n",
        "MyName = \"Sunny\"\n",
        "\n",
        "print(myName)"
      ],
      "execution_count": null,
      "outputs": []
    },
    {
      "cell_type": "markdown",
      "metadata": {
        "id": "DqMreJhhbtOX"
      },
      "source": [
        "### Variable Naming \n",
        "\n",
        "Three rules to name a variable:\n",
        "\n",
        "- First character: \n",
        " * either a letter or underscore (_).\n",
        " * Example: `_time`,   `place`\n",
        "- The remaining characters: \n",
        " * must be letters, numbers or underscores\n",
        " * Example: `place1`,  `_1991`,  `Y_O_u_8`,  `_R4st`\n",
        "- Reserved words cannot be used, see PFE Appendix C\n",
        " * `class`, `from`, `import`, `in`, `lambda`, `pass`, `return`, `with`, `yield`, …\n",
        "\n",
        "\n",
        "Note: variable names are case sensitive\n",
        "- `distance` and `Distance` are different variables\n",
        "\n",
        "### Recommended but not Obligatory\n",
        "\n",
        "- If the value of the variable is significant and does not change, then use only capital letters and underscores in the name\n",
        " * e.g. `BAKERS_DOZEN`, `DAYS_IN_A_WEEK`\n",
        "\n",
        "- Otherwise, begin names of variables with a lowercase letter \n",
        " * e.g. `monthlyExpense`, `numClassesPerWeek`, etc.\n",
        "\n",
        "- Use descriptive names \n",
        " * e.g. `numClassesPerWeek` rather than `nCPW`\n"
      ]
    },
    {
      "cell_type": "markdown",
      "metadata": {
        "id": "eGPBmCXVbtOY"
      },
      "source": [
        "### Name Cases\n",
        "\n",
        "![image.png](attachment:image.png)"
      ]
    },
    {
      "cell_type": "markdown",
      "metadata": {
        "id": "QD6iNAx5btOY"
      },
      "source": [
        "### Problem 1.2: Variable Updates"
      ]
    },
    {
      "cell_type": "markdown",
      "metadata": {
        "id": "Odwyoo2NbtOc"
      },
      "source": [
        "Create a variable that can show the change of the unit price of a product - face mask.\u000b\n",
        "\n",
        "- 1) Give the variable an appropriate name (camel case or snake case). \u000b\n",
        "- 2) The unit price starts at 0.11 and rises to 0.65 and then to 1.20 and back to 0.23. \n",
        "Write the Python code to reflect this series of changes.\u000b\n",
        "- 3) Print out the current unit price of a face mask. \u000b\n",
        "You shouldn't use the number itself, so print(0.23) is not acceptable. \n"
      ]
    },
    {
      "cell_type": "code",
      "metadata": {
        "id": "ToFOBvdSbtOe"
      },
      "source": [
        ""
      ],
      "execution_count": null,
      "outputs": []
    },
    {
      "cell_type": "code",
      "metadata": {
        "id": "NlglKa7EbtOf"
      },
      "source": [
        ""
      ],
      "execution_count": null,
      "outputs": []
    },
    {
      "cell_type": "code",
      "metadata": {
        "id": "eZF7JDPkbtOg",
        "outputId": "4e8a0492-5b43-47f4-d4fe-c65e41b128c4",
        "colab": {
          "base_uri": "https://localhost:8080/"
        }
      },
      "source": [
        "maskUnitPrice = 0.11\n",
        "maskUnitPrice = 0.65\n",
        "maskUnitPrice = 1.20\n",
        "maskUnitPrice = 0.23\n",
        "print(maskUnitPrice)\n"
      ],
      "execution_count": 1,
      "outputs": [
        {
          "output_type": "stream",
          "text": [
            "0.23\n"
          ],
          "name": "stdout"
        }
      ]
    },
    {
      "cell_type": "markdown",
      "metadata": {
        "id": "kVx-ITY2btOg"
      },
      "source": [
        "### Var-to-Var Assignment Example\n",
        "\n",
        "What is the value of `numCars` and `numVehicles` at each step?"
      ]
    },
    {
      "cell_type": "code",
      "metadata": {
        "id": "W5efwiJzbtOi"
      },
      "source": [
        "numCars = 8\n",
        "numVehicles = numCars\n",
        "numCars = numVehicles + 4\n",
        "numVehicles = numVehicles + 3\n",
        "numVehicles = numCars - 7\n"
      ],
      "execution_count": null,
      "outputs": []
    },
    {
      "cell_type": "code",
      "metadata": {
        "id": "DK6FHHavbtOj"
      },
      "source": [
        ""
      ],
      "execution_count": null,
      "outputs": []
    },
    {
      "cell_type": "markdown",
      "metadata": {
        "id": "kqfZziUJbtOk"
      },
      "source": [
        "### Problem 1.3: Variable Updates \n",
        "\n",
        "Two retailers are having a price war over a product - the rubbing alcohol. \n",
        "\n",
        "- For a bottle of 500ml rubbing alcohol, Retailer A set the price to be £4.\n",
        "- Retailer B set his selling price to be £1 higher than Retailer A. \n",
        "- Retailer A increased her own price by £2. \n",
        "- Retailer B decreased his own price by £0.5.\n",
        "- Retailer A set her price to be £1.2 lower than Retailer B. \n",
        "- Retailer B dropped his price by 20%. \n",
        "- Print out the final prices set by Retailer A and B. \n",
        "\n",
        "Note: You should not work out the price directly. \n",
        "\n",
        "You need to use variables to update variable value.\n"
      ]
    },
    {
      "cell_type": "code",
      "metadata": {
        "id": "SrWkH9oUbtOl"
      },
      "source": [
        ""
      ],
      "execution_count": null,
      "outputs": []
    },
    {
      "cell_type": "code",
      "metadata": {
        "id": "4Azs4p9zbtOl"
      },
      "source": [
        "priceA = 4\n",
        "priceB = priceA + 1\n",
        "priceA = priceA + 2\n",
        "priceB = priceB - 0.5\n",
        "priceA = priceB - 1.2\n",
        "priceB = priceB * (1 - 0.2)\n",
        "\n",
        "print(priceA)\n",
        "print(priceB)\n"
      ],
      "execution_count": null,
      "outputs": []
    },
    {
      "cell_type": "code",
      "metadata": {
        "id": "KwCj_NxAbtOn"
      },
      "source": [
        ""
      ],
      "execution_count": null,
      "outputs": []
    },
    {
      "cell_type": "markdown",
      "metadata": {
        "id": "HMBKc4qZbtOo"
      },
      "source": [
        "### Swapping Variable Values\n",
        "\n",
        "Now think about how to swap the values of two variables\n"
      ]
    },
    {
      "cell_type": "code",
      "metadata": {
        "id": "ZmTgkZQMbtOo"
      },
      "source": [
        "treat = \"chocolate\"\n",
        "\n",
        "snack = \"sandwich\"\n",
        "\n",
        "treat = snack\n",
        "\n",
        "snack = treat\n"
      ],
      "execution_count": null,
      "outputs": []
    },
    {
      "cell_type": "markdown",
      "metadata": {
        "id": "LdeTiEZgbtOp"
      },
      "source": [
        "![image.png](attachment:image.png)"
      ]
    },
    {
      "cell_type": "code",
      "metadata": {
        "id": "3NDe3uzbbtOq"
      },
      "source": [
        "treat = \"chocolate\"\n",
        "\n",
        "snack = \"sandwich\"\n",
        "\n",
        "temp  = treat\n",
        "\n",
        "treat = snack\n",
        "\n",
        "snack = temp\n"
      ],
      "execution_count": null,
      "outputs": []
    },
    {
      "cell_type": "markdown",
      "metadata": {
        "id": "yA3BIfUvbtOs"
      },
      "source": [
        "![image.png](attachment:image.png)"
      ]
    },
    {
      "cell_type": "code",
      "metadata": {
        "id": "rHRz0OnkbtOt"
      },
      "source": [
        ""
      ],
      "execution_count": null,
      "outputs": []
    },
    {
      "cell_type": "markdown",
      "metadata": {
        "id": "ovAbEtHDbtOu"
      },
      "source": [
        "### Problem 1.4: Variable Swapping\n",
        "\n",
        "In a chess match, the white player goes first. \n",
        "\n",
        "In a series of chess matches, two players take turns to be the white player. \n",
        "\n",
        "- In the first round, Carlsen was the white player and Kasparov was the black player. \n",
        "`white = \"Carlsen\"\n",
        "black = \"Kasparov\"`\n",
        "\n",
        "- In the next round, they should swap. \n",
        "\n",
        "- Write down the Python code to swap the names of the two variables - white and black.\n",
        "\n",
        "- Print out the names of the white player and the black player .\n",
        "\n",
        "Note: You should NOT directly assign \"Carlsen\" to black and \"Kasparov\" to white. \n"
      ]
    },
    {
      "cell_type": "code",
      "metadata": {
        "id": "pCTdKSq_btOv"
      },
      "source": [
        ""
      ],
      "execution_count": null,
      "outputs": []
    },
    {
      "cell_type": "code",
      "metadata": {
        "id": "yaa0xF8-btOw"
      },
      "source": [
        ""
      ],
      "execution_count": null,
      "outputs": []
    },
    {
      "cell_type": "code",
      "metadata": {
        "id": "-iT0e1AKbtOy"
      },
      "source": [
        "white = \"Carlsen\"\n",
        "black = \"Kasparov\"\n",
        "\n",
        "# Write down your code to swap the two players\n",
        "temp = white\n",
        "white = black \n",
        "black = temp\n",
        "\n",
        "# As a result, Kasparov will be the white player and Carlsen will take black\n",
        "print(white)\n",
        "print(black)"
      ],
      "execution_count": null,
      "outputs": []
    },
    {
      "cell_type": "code",
      "metadata": {
        "id": "2a5wg3JwbtOz"
      },
      "source": [
        ""
      ],
      "execution_count": null,
      "outputs": []
    },
    {
      "cell_type": "markdown",
      "metadata": {
        "id": "D6Hbus2ObtO0"
      },
      "source": [
        "### Data Types in Python\n",
        "\n",
        "There are four primitive data types in Python.\n",
        "\n",
        "![image.png](attachment:image.png)\n",
        "\n",
        "Note: 1) Do not use a comma as a decimal separator: 100,000 error\n",
        "\t  2) Do not use fractions: 3 ½ error; use decimal notation 3.5 instead \n"
      ]
    },
    {
      "cell_type": "code",
      "metadata": {
        "id": "QFUt_vYGbtO0"
      },
      "source": [
        ""
      ],
      "execution_count": null,
      "outputs": []
    },
    {
      "cell_type": "code",
      "metadata": {
        "id": "hYs25ndHbtO1"
      },
      "source": [
        ""
      ],
      "execution_count": null,
      "outputs": []
    },
    {
      "cell_type": "markdown",
      "metadata": {
        "id": "VPz50-aAbtO3"
      },
      "source": [
        "### Problem 1.5 Data Types\n",
        "\n",
        "Define four different variables. \n",
        "\t- Each variable should follow camel (or snake) casing. \n",
        "\t- Each variable name should be intuitive and self-explanatory and match the value type. \n",
        "\n",
        "Assign four different values to the variables, one of each\n",
        "\t- string type (e.g., \"FIFA2020\")\t\n",
        "\t- Boolean type (e.g., True, False)\t\n",
        "\t- integer (e.g., 0)\t\t\t\t\n",
        "\t- floating point number (e.g., -9.3)\n",
        "    \n",
        "The following are not acceptable\n",
        "    - String = \"FIFA2020\"\n",
        "    - Boolean = True\n",
        "    - Integer = 0\n",
        "    - Float = -9.3\n",
        "\n",
        "\n"
      ]
    },
    {
      "cell_type": "code",
      "metadata": {
        "id": "9u6OQUIFbtO4"
      },
      "source": [
        ""
      ],
      "execution_count": null,
      "outputs": []
    },
    {
      "cell_type": "code",
      "metadata": {
        "id": "a28rfVusbtO6"
      },
      "source": [
        ""
      ],
      "execution_count": null,
      "outputs": []
    },
    {
      "cell_type": "markdown",
      "metadata": {
        "id": "F4XQqWrebtO6"
      },
      "source": [
        "### Problem 1.6 [Optional] Variable Swapping\n",
        "\n",
        "There are three boxes: boxA, boxB and boxC. \n",
        "\n",
        "Initially, \n",
        "- boxA has a small bear\n",
        "- boxB has a medium bear \n",
        "- boxC has a large bear\n",
        "\n",
        "\n",
        "Shift the bears so that \n",
        "- boxA has a large bear \n",
        "- boxB has a small bear \n",
        "- boxC has a medium bear\n",
        "\n",
        "![image.png](attachment:image.png)"
      ]
    },
    {
      "cell_type": "code",
      "metadata": {
        "id": "kPJxcNTvbtO8"
      },
      "source": [
        ""
      ],
      "execution_count": null,
      "outputs": []
    },
    {
      "cell_type": "code",
      "metadata": {
        "id": "W49dfAN0btO9"
      },
      "source": [
        ""
      ],
      "execution_count": null,
      "outputs": []
    },
    {
      "cell_type": "code",
      "metadata": {
        "id": "BQX5bRcpbtO-"
      },
      "source": [
        "#initialise the three boxes\n",
        "boxA = \"small bear\"\n",
        "boxB = \"medium bear\" \n",
        "boxC = \"large bear\"\n",
        "\n",
        "# introduce a new variable temp\n",
        "temp = boxC\n",
        "boxC = boxB\n",
        "boxB = boxA\n",
        "boxA = temp\n",
        "\n",
        "# print out contents in the boxes\n",
        "print(boxA)\n",
        "print(boxB)\n",
        "print(boxC)"
      ],
      "execution_count": null,
      "outputs": []
    },
    {
      "cell_type": "markdown",
      "metadata": {
        "id": "Fd6xjOGDbtO_"
      },
      "source": [
        "### Problem 1.7 [Optional] Sum and Difference\n",
        "\n",
        "Given two numbers `a` and `b`\n",
        "\n",
        "Calculate the sum and difference of the two numbers\n",
        "\n",
        "Print the two results out\n",
        "\n",
        "Now `a` is assigned with the sum and `b` is assigned with the difference\n",
        "\n",
        "Redo the 2nd and 3rd bullet points\n"
      ]
    },
    {
      "cell_type": "code",
      "metadata": {
        "id": "2V21hwJ7btPA",
        "outputId": "61d5acca-c074-47b1-f177-15a1ba31d6af",
        "colab": {
          "base_uri": "https://localhost:8080/"
        }
      },
      "source": [
        "a = 9\r\n",
        "b = 1.8\r\n",
        "total = a + b\r\n",
        "difference = a - b\r\n",
        "print(a, b, total, difference)"
      ],
      "execution_count": 3,
      "outputs": [
        {
          "output_type": "stream",
          "text": [
            "9 1.8 10.8 7.2\n"
          ],
          "name": "stdout"
        }
      ]
    },
    {
      "cell_type": "code",
      "metadata": {
        "id": "Uvvad4kYbtPB"
      },
      "source": [
        ""
      ],
      "execution_count": null,
      "outputs": []
    },
    {
      "cell_type": "code",
      "metadata": {
        "id": "3MpP5tgjbtPD"
      },
      "source": [
        "a = 9\n",
        "b = 1.8\n",
        "sum = a + b\n",
        "difference = a - b\n",
        "print(a, b)\n",
        "\n",
        "a = sum \n",
        "b = difference\n",
        "sum = a + b\n",
        "difference = a - b\n",
        "print(a, b)\n"
      ],
      "execution_count": null,
      "outputs": []
    },
    {
      "cell_type": "code",
      "metadata": {
        "id": "VSaBjiXjbtPD"
      },
      "source": [
        ""
      ],
      "execution_count": null,
      "outputs": []
    },
    {
      "cell_type": "code",
      "metadata": {
        "id": "VU1d860ubtPE"
      },
      "source": [
        ""
      ],
      "execution_count": null,
      "outputs": []
    },
    {
      "cell_type": "code",
      "metadata": {
        "id": "QOkgJSpvbtPE"
      },
      "source": [
        ""
      ],
      "execution_count": null,
      "outputs": []
    },
    {
      "cell_type": "code",
      "metadata": {
        "id": "lBxuEooubtPE"
      },
      "source": [
        ""
      ],
      "execution_count": null,
      "outputs": []
    },
    {
      "cell_type": "code",
      "metadata": {
        "id": "hJeLiqPpbtPK"
      },
      "source": [
        ""
      ],
      "execution_count": null,
      "outputs": []
    },
    {
      "cell_type": "code",
      "metadata": {
        "id": "nlbuPaF0btPL"
      },
      "source": [
        ""
      ],
      "execution_count": null,
      "outputs": []
    },
    {
      "cell_type": "code",
      "metadata": {
        "id": "Ia-vON4_btPL"
      },
      "source": [
        ""
      ],
      "execution_count": null,
      "outputs": []
    },
    {
      "cell_type": "code",
      "metadata": {
        "id": "WtPKPJVnbtPL"
      },
      "source": [
        ""
      ],
      "execution_count": null,
      "outputs": []
    },
    {
      "cell_type": "code",
      "metadata": {
        "id": "1RQW_QtObtPM"
      },
      "source": [
        ""
      ],
      "execution_count": null,
      "outputs": []
    },
    {
      "cell_type": "code",
      "metadata": {
        "id": "iQo46JvMbtPO"
      },
      "source": [
        ""
      ],
      "execution_count": null,
      "outputs": []
    },
    {
      "cell_type": "code",
      "metadata": {
        "id": "VaLbIpH8btPP"
      },
      "source": [
        ""
      ],
      "execution_count": null,
      "outputs": []
    },
    {
      "cell_type": "code",
      "metadata": {
        "id": "EHE29i2bbtPQ"
      },
      "source": [
        ""
      ],
      "execution_count": null,
      "outputs": []
    },
    {
      "cell_type": "code",
      "metadata": {
        "id": "zA5NzkD_btPQ"
      },
      "source": [
        ""
      ],
      "execution_count": null,
      "outputs": []
    },
    {
      "cell_type": "code",
      "metadata": {
        "id": "yHLJCf_JbtPR"
      },
      "source": [
        ""
      ],
      "execution_count": null,
      "outputs": []
    },
    {
      "cell_type": "code",
      "metadata": {
        "id": "LpI2Pt0SbtPS"
      },
      "source": [
        ""
      ],
      "execution_count": null,
      "outputs": []
    },
    {
      "cell_type": "code",
      "metadata": {
        "id": "77D4e55YbtPT"
      },
      "source": [
        ""
      ],
      "execution_count": null,
      "outputs": []
    },
    {
      "cell_type": "code",
      "metadata": {
        "id": "Dk4Gm51MbtPT"
      },
      "source": [
        ""
      ],
      "execution_count": null,
      "outputs": []
    },
    {
      "cell_type": "code",
      "metadata": {
        "id": "RrlFTr7BbtPU"
      },
      "source": [
        ""
      ],
      "execution_count": null,
      "outputs": []
    },
    {
      "cell_type": "code",
      "metadata": {
        "id": "GIpM95BnbtPV"
      },
      "source": [
        ""
      ],
      "execution_count": null,
      "outputs": []
    },
    {
      "cell_type": "code",
      "metadata": {
        "id": "kUSiFQKebtPW"
      },
      "source": [
        ""
      ],
      "execution_count": null,
      "outputs": []
    },
    {
      "cell_type": "code",
      "metadata": {
        "id": "zcIGgSbkbtPW"
      },
      "source": [
        ""
      ],
      "execution_count": null,
      "outputs": []
    },
    {
      "cell_type": "code",
      "metadata": {
        "id": "lPP3jt0wbtPX"
      },
      "source": [
        ""
      ],
      "execution_count": null,
      "outputs": []
    },
    {
      "cell_type": "code",
      "metadata": {
        "id": "grbkVWhFbtPX"
      },
      "source": [
        ""
      ],
      "execution_count": null,
      "outputs": []
    },
    {
      "cell_type": "code",
      "metadata": {
        "id": "h3Zp6u7tbtPY"
      },
      "source": [
        ""
      ],
      "execution_count": null,
      "outputs": []
    },
    {
      "cell_type": "code",
      "metadata": {
        "id": "O9gzIB7ibtPZ"
      },
      "source": [
        ""
      ],
      "execution_count": null,
      "outputs": []
    },
    {
      "cell_type": "code",
      "metadata": {
        "id": "u2l3bjv1btPa"
      },
      "source": [
        ""
      ],
      "execution_count": null,
      "outputs": []
    },
    {
      "cell_type": "code",
      "metadata": {
        "id": "uIvb5P0MbtPa"
      },
      "source": [
        ""
      ],
      "execution_count": null,
      "outputs": []
    },
    {
      "cell_type": "code",
      "metadata": {
        "id": "iXHGR5xwbtPa"
      },
      "source": [
        ""
      ],
      "execution_count": null,
      "outputs": []
    },
    {
      "cell_type": "code",
      "metadata": {
        "id": "O3dwd3jJbtPb"
      },
      "source": [
        ""
      ],
      "execution_count": null,
      "outputs": []
    },
    {
      "cell_type": "code",
      "metadata": {
        "id": "nCC34eVxbtPc"
      },
      "source": [
        ""
      ],
      "execution_count": null,
      "outputs": []
    },
    {
      "cell_type": "code",
      "metadata": {
        "id": "FHrD7CK7btPc"
      },
      "source": [
        ""
      ],
      "execution_count": null,
      "outputs": []
    },
    {
      "cell_type": "code",
      "metadata": {
        "id": "hiPCjpwUbtPd"
      },
      "source": [
        ""
      ],
      "execution_count": null,
      "outputs": []
    },
    {
      "cell_type": "code",
      "metadata": {
        "id": "F3ONQijNbtPd"
      },
      "source": [
        ""
      ],
      "execution_count": null,
      "outputs": []
    },
    {
      "cell_type": "code",
      "metadata": {
        "id": "WptmTWZCbtPd"
      },
      "source": [
        ""
      ],
      "execution_count": null,
      "outputs": []
    },
    {
      "cell_type": "code",
      "metadata": {
        "id": "Q3Lz2WvhbtPf"
      },
      "source": [
        ""
      ],
      "execution_count": null,
      "outputs": []
    },
    {
      "cell_type": "code",
      "metadata": {
        "id": "_TRIhu6lbtPf"
      },
      "source": [
        ""
      ],
      "execution_count": null,
      "outputs": []
    },
    {
      "cell_type": "code",
      "metadata": {
        "id": "okzXTn2bbtPg"
      },
      "source": [
        ""
      ],
      "execution_count": null,
      "outputs": []
    },
    {
      "cell_type": "code",
      "metadata": {
        "id": "QCK6s5ERbtPg"
      },
      "source": [
        ""
      ],
      "execution_count": null,
      "outputs": []
    },
    {
      "cell_type": "code",
      "metadata": {
        "id": "pxQ_4icBbtPg"
      },
      "source": [
        ""
      ],
      "execution_count": null,
      "outputs": []
    },
    {
      "cell_type": "code",
      "metadata": {
        "id": "iEGgTQazbtPi"
      },
      "source": [
        ""
      ],
      "execution_count": null,
      "outputs": []
    },
    {
      "cell_type": "code",
      "metadata": {
        "id": "DICv48EPbtPi"
      },
      "source": [
        ""
      ],
      "execution_count": null,
      "outputs": []
    },
    {
      "cell_type": "code",
      "metadata": {
        "id": "Xc3XKtE2btPi"
      },
      "source": [
        ""
      ],
      "execution_count": null,
      "outputs": []
    },
    {
      "cell_type": "code",
      "metadata": {
        "id": "ldXwrcv6btPj"
      },
      "source": [
        ""
      ],
      "execution_count": null,
      "outputs": []
    },
    {
      "cell_type": "code",
      "metadata": {
        "id": "X0O-RFRybtPp"
      },
      "source": [
        ""
      ],
      "execution_count": null,
      "outputs": []
    },
    {
      "cell_type": "code",
      "metadata": {
        "id": "FIWxoULIbtPs"
      },
      "source": [
        ""
      ],
      "execution_count": null,
      "outputs": []
    },
    {
      "cell_type": "code",
      "metadata": {
        "id": "b0tdgS3mbtPs"
      },
      "source": [
        ""
      ],
      "execution_count": null,
      "outputs": []
    }
  ]
}